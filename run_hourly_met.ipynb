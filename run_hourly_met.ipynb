{
 "cells": [
  {
   "cell_type": "markdown",
   "metadata": {},
   "source": [
    "# GWO hourly meteorological data plotting and processing\n",
    "**Author: Jun Sasaki  Coded on January 10, 2019  Revised on January 11, 2019**\n"
   ]
  },
  {
   "cell_type": "code",
   "execution_count": null,
   "metadata": {},
   "outputs": [],
   "source": [
    "from mod_class_met import *"
   ]
  },
  {
   "cell_type": "code",
   "execution_count": null,
   "metadata": {},
   "outputs": [],
   "source": [
    "datetime_ini = \"1990-1-1 00:00:00\"\n",
    "datetime_end = \"1992-12-1 00:00:00\"\n",
    "stn = \"Chiba\"\n",
    "dir =  \"../GWO/Hourly/\"\n",
    "met = Met_GWO(datetime_ini=datetime_ini, datetime_end=datetime_end, stn=stn, dir=dir)"
   ]
  },
  {
   "cell_type": "code",
   "execution_count": null,
   "metadata": {},
   "outputs": [],
   "source": [
    "met.df"
   ]
  },
  {
   "cell_type": "code",
   "execution_count": null,
   "metadata": {},
   "outputs": [],
   "source": [
    "met.df.columns"
   ]
  },
  {
   "cell_type": "markdown",
   "metadata": {},
   "source": [
    "# Plotting example"
   ]
  },
  {
   "cell_type": "code",
   "execution_count": null,
   "metadata": {},
   "outputs": [],
   "source": [
    "data = Data1D(df=met.df, col_1='kion')"
   ]
  },
  {
   "cell_type": "code",
   "execution_count": null,
   "metadata": {},
   "outputs": [],
   "source": [
    "data.v1[0:10]"
   ]
  },
  {
   "cell_type": "markdown",
   "metadata": {},
   "source": [
    "## Example of scalar 1-D time series plot"
   ]
  },
  {
   "cell_type": "code",
   "execution_count": null,
   "metadata": {},
   "outputs": [],
   "source": [
    "### xlim = (parse(\"2014-01-15\"), parse(\"2014-02-16\"))  ### ex. for datetime\n",
    "ylabel='Temperature (degC)'\n",
    "xlim = None\n",
    "#xlim = (parse(\"1990-09-02\"), parse(\"1992-09-03\"))\n",
    "dx = 7\n",
    "ylim = None\n",
    "dy = 2\n",
    "\n",
    "try:\n",
    "    plot_config = Data1D_PlotConfig(xlim = xlim, ylim = ylim, x_minor_locator = DayLocator(interval=dx), \\\n",
    "                                    y_minor_locator = MultipleLocator(dy), format_xdata = DateFormatter('%Y-%m-%d'), ylabel = ylabel)\n",
    "    Plot1D(plot_config, data).save_plot('data.png', dpi=600)\n",
    "except:\n",
    "    print('dx and/or dy may be too small and too many tickes.')"
   ]
  },
  {
   "cell_type": "markdown",
   "metadata": {},
   "source": [
    "## Example of time series vector plot"
   ]
  },
  {
   "cell_type": "code",
   "execution_count": null,
   "metadata": {},
   "outputs": [],
   "source": [
    "wind = Data1D(met.df, 'u', 'v')\n",
    "print(wind.v[0:10])"
   ]
  },
  {
   "cell_type": "code",
   "execution_count": null,
   "metadata": {},
   "outputs": [],
   "source": [
    "#xlim = (parse(\"2013-12-25 00:00:00\"),parse(\"2014-01-10 00:00:00\"))\n",
    "vlabel = 'Wind speed (m/s)'\n",
    "ylabel = 'Wind vector (m/s)'\n",
    "png_vector = \"hourly_wind.png\"\n",
    "xlim = None\n",
    "#xlim = (parse(\"1990-09-02\"), parse(\"1990-09-03\"))\n",
    "dx = 7\n",
    "#ylim = None\n",
    "ylim = (-10, 10)\n",
    "dy = 1\n",
    "try:\n",
    "    plot_config = Data1D_PlotConfig(xlim = xlim, ylim = ylim, x_minor_locator = DayLocator(interval=dx), \\\n",
    "                                    y_minor_locator = MultipleLocator(dy), format_xdata = DateFormatter('%Y-%m-%d'), \\\n",
    "                                    ylabel=ylabel, vlabel=vlabel, vlabel_loc = 'lower center')\n",
    "    Plot1D(plot_config, wind).save_vector_plot(png_vector, magnitude = True, dpi=600)\n",
    "except:\n",
    "    print('dx and/or dy may be too small and too many ticks')"
   ]
  },
  {
   "cell_type": "code",
   "execution_count": null,
   "metadata": {},
   "outputs": [],
   "source": []
  }
 ],
 "metadata": {
  "kernelspec": {
   "display_name": "Python 3",
   "language": "python",
   "name": "python3"
  },
  "language_info": {
   "codemirror_mode": {
    "name": "ipython",
    "version": 3
   },
   "file_extension": ".py",
   "mimetype": "text/x-python",
   "name": "python",
   "nbconvert_exporter": "python",
   "pygments_lexer": "ipython3",
   "version": "3.7.2"
  }
 },
 "nbformat": 4,
 "nbformat_minor": 2
}
