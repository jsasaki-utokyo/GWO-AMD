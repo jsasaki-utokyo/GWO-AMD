{
 "cells": [
  {
   "cell_type": "markdown",
   "metadata": {},
   "source": [
    "# GWO hourly meteorological data plotting and processing\n",
    "**Author: Jun Sasaki  Coded on January 10, 2019  Revised on January 19, 2022**<br>\n",
    "Handling of Japan Meteorological Agency [GWO](http://www.roy.hi-ho.ne.jp/ssai/mito_gis/).\n",
    "- For details, see **mod_class_met.py**, which was developed in **dev_class_met.ipynb**."
   ]
  },
  {
   "cell_type": "code",
   "execution_count": null,
   "metadata": {},
   "outputs": [],
   "source": [
    "from mod_class_met import *\n",
    "from datetime import datetime\n",
    "# Set GWO/Hourly/ directory path containing GWO data\n",
    "dirpath = \"d:/dat/met/JMA_DataBase/GWO/Hourly/\"\n",
    "#dirpath = \"c:/dat/met/GWO/Hourly\""
   ]
  },
  {
   "cell_type": "code",
   "execution_count": null,
   "metadata": {},
   "outputs": [],
   "source": [
    "datetime_ini = \"2019-12-1 00:00:00\"\n",
    "datetime_end = \"2020-12-30 00:00:00\"\n",
    "#datetime_ini = \"2010-9-2 00:00:00\"\n",
    "#datetime_end = \"2010-9-3 00:00:00\"\n",
    "stn = \"Chiba\"\n",
    "met = Met_GWO(datetime_ini=datetime_ini, datetime_end=datetime_end, stn=stn, dirpath=dirpath)"
   ]
  },
  {
   "cell_type": "markdown",
   "metadata": {},
   "source": [
    "## Gets pandas DataFrame\n",
    "pandas DataFrame can be obtained by `met.df`"
   ]
  },
  {
   "cell_type": "code",
   "execution_count": null,
   "metadata": {},
   "outputs": [],
   "source": [
    "met.df.head()"
   ]
  },
  {
   "cell_type": "code",
   "execution_count": null,
   "metadata": {},
   "outputs": [],
   "source": [
    "met.df.columns"
   ]
  },
  {
   "cell_type": "code",
   "execution_count": null,
   "metadata": {},
   "outputs": [],
   "source": [
    "met.df['kion'].head()"
   ]
  },
  {
   "cell_type": "markdown",
   "metadata": {
    "jupyter": {
     "source_hidden": true
    },
    "tags": []
   },
   "source": [
    "# Plotting example using [Matplotlib](https://matplotlib.org/stable/index.html)"
   ]
  },
  {
   "cell_type": "code",
   "execution_count": null,
   "metadata": {
    "jupyter": {
     "source_hidden": true
    },
    "tags": []
   },
   "outputs": [],
   "source": [
    "data = Data1D(df=met.df, col_1='kion')"
   ]
  },
  {
   "cell_type": "code",
   "execution_count": null,
   "metadata": {
    "jupyter": {
     "source_hidden": true
    },
    "tags": []
   },
   "outputs": [],
   "source": [
    "data.v1"
   ]
  },
  {
   "cell_type": "markdown",
   "metadata": {},
   "source": [
    "## Example of scalar 1-D time series plot\n",
    "- Rolling mean is applied to `Plot1D()` by setting its arguments of `window` in odd integer number and `center` (default is `True`)."
   ]
  },
  {
   "cell_type": "code",
   "execution_count": null,
   "metadata": {},
   "outputs": [],
   "source": [
    "### xlim = (parse(\"2014-01-15\"), parse(\"2014-02-16\"))  ### ex. for datetime\n",
    "ylabel='Temperature (degC)'\n",
    "xlim = None\n",
    "#xlim = (parse(\"1990-09-02\"), parse(\"1992-09-03\"))\n",
    "dx = 7\n",
    "ylim = None\n",
    "dy = 2\n",
    "\n",
    "## Set window=1 when no plot.\n",
    "window=1\n",
    "try:\n",
    "    plot_config = Data1D_PlotConfig(xlim = xlim, ylim = ylim, x_minor_locator = DayLocator(interval=dx),\n",
    "                                    y_minor_locator = MultipleLocator(dy),\n",
    "                                    format_xdata = DateFormatter('%Y-%m-%d'), ylabel = ylabel)\n",
    "    Plot1D(plot_config, data, window=window, center=True).save_plot('data.png', dpi=600)\n",
    "except:\n",
    "    print('dx and/or dy may be too small and too many tickes.')"
   ]
  },
  {
   "cell_type": "markdown",
   "metadata": {},
   "source": [
    "## Example of time series wind vector plot with its speed"
   ]
  },
  {
   "cell_type": "code",
   "execution_count": null,
   "metadata": {},
   "outputs": [],
   "source": [
    "wind = Data1D(met.df, 'u', 'v')\n",
    "print(wind.v[0:10])"
   ]
  },
  {
   "cell_type": "code",
   "execution_count": null,
   "metadata": {},
   "outputs": [],
   "source": [
    "#xlim = (parse(\"2013-12-25 00:00:00\"),parse(\"2014-01-10 00:00:00\"))\n",
    "vlabel = 'Wind speed (m/s)'\n",
    "ylabel = 'Wind vector (m/s)'\n",
    "png_vector = \"hourly_wind.png\"\n",
    "xlim = None\n",
    "#xlim = (parse(\"1990-09-02\"), parse(\"1990-09-03\"))\n",
    "dx = 7\n",
    "#ylim = None\n",
    "ylim = (-15, 15)\n",
    "dy = 1\n",
    "\n",
    "## Set window=1 when no plot. \n",
    "window=1\n",
    "try:\n",
    "    plot_config = Data1D_PlotConfig(xlim = xlim, ylim = ylim, x_minor_locator = DayLocator(interval=dx),\n",
    "                                    y_minor_locator = MultipleLocator(dy), format_xdata = DateFormatter('%Y-%m-%d'),\n",
    "                                    ylabel=ylabel, vlabel=vlabel, vlabel_loc = 'lower center')\n",
    "    Plot1D(plot_config, wind, window=window, center=True).save_vector_plot(png_vector, magnitude = True, dpi=600)\n",
    "except:\n",
    "    print('dx and/or dy may be too small and too many ticks')"
   ]
  },
  {
   "cell_type": "markdown",
   "metadata": {},
   "source": [
    "# Plotting exmaples using [hvPlot](https://hvplot.holoviz.org/)\n",
    "This is for interactive plotting but not suitable for saving graphics into files."
   ]
  },
  {
   "cell_type": "code",
   "execution_count": null,
   "metadata": {},
   "outputs": [],
   "source": [
    "import hvplot.pandas"
   ]
  },
  {
   "cell_type": "code",
   "execution_count": null,
   "metadata": {
    "scrolled": true
   },
   "outputs": [],
   "source": [
    "data.df[['kion', 'sped']].hvplot()"
   ]
  },
  {
   "cell_type": "code",
   "execution_count": null,
   "metadata": {},
   "outputs": [],
   "source": [
    "def hook(plot, element):\n",
    "    plot.handles['xaxis'].axis_label_text_font_style = 'normal'\n",
    "    plot.handles['yaxis'].axis_label_text_font_style = 'normal'\n",
    "    "
   ]
  },
  {
   "cell_type": "markdown",
   "metadata": {},
   "source": [
    "### How to specify options for hvPlot (オプション指定方法)\n",
    "- Many of the Holoviews options can be specified with the hvPlot argument.\n",
    "- `hooks` defines the function `hook(plot, element)`, which is specified in hvPlot as `.opts(hooks=[hook])`. Unconfirmed, but it seems that all options can be specified, including Bokeh options that are not defined as arguments in hvPlot or Holoviews.\n",
    "- 基本的にはhvplotの引数でHoloviewsのオプションの多くが指定できる\n",
    "- `hooks`は関数`hook(plot, element)`を定義し，hvPlotで`.opts(hooks=[hook])`として指定する．未確認だが，hvPlotやHoloviewsの引数としては定義されていないBokehのオプションを含め，すべてのオプションが指定できそう"
   ]
  },
  {
   "cell_type": "code",
   "execution_count": null,
   "metadata": {},
   "outputs": [],
   "source": [
    "data.df['kion'].hvplot(xlim=(datetime(2020,1,2), datetime(2020,3,4)), xticks=10,\n",
    "                       ylabel='Temperature (degC)', ylim=(-4,35), yticks=10,\n",
    "                       width=600, height=200, line_color='red', line_width=0.5,\n",
    "                       fontsize={'xticks':12,'yticks':12 ,'ylabel':14},\n",
    "                       title='').opts(hooks=[hook])"
   ]
  },
  {
   "cell_type": "markdown",
   "metadata": {},
   "source": [
    "## Checking missing values (NaN) and filling appropriate values"
   ]
  },
  {
   "cell_type": "code",
   "execution_count": null,
   "metadata": {},
   "outputs": [],
   "source": [
    "datetime_ini = \"2010-9-2 00:00:00\"\n",
    "datetime_end = \"2010-9-2 23:00:00\"\n",
    "stn = \"Chiba\"\n",
    "dirpath = \"d:/dat/met/JMA_DataBase/GWO/Hourly/\"\n",
    "met_check = Met_GWO_check(datetime_ini=datetime_ini, datetime_end=datetime_end, stn=stn, dirpath=dirpath)\n",
    "datetime_index = pd.date_range(datetime_ini, datetime_end, freq='H') ### 完全なdatetime indexを作る"
   ]
  },
  {
   "cell_type": "code",
   "execution_count": null,
   "metadata": {},
   "outputs": [],
   "source": [
    "met_check.df.index"
   ]
  },
  {
   "cell_type": "code",
   "execution_count": null,
   "metadata": {},
   "outputs": [],
   "source": [
    "datetime_index.values"
   ]
  },
  {
   "cell_type": "code",
   "execution_count": null,
   "metadata": {},
   "outputs": [],
   "source": [
    "datetime_index.values[0] in met_check.df.index.values"
   ]
  },
  {
   "cell_type": "code",
   "execution_count": null,
   "metadata": {},
   "outputs": [],
   "source": [
    "mask = np.logical_not(np.isin(datetime_index.values,met_check.df.index.values))"
   ]
  },
  {
   "cell_type": "code",
   "execution_count": null,
   "metadata": {},
   "outputs": [],
   "source": [
    "datetime_index[mask]"
   ]
  },
  {
   "cell_type": "code",
   "execution_count": null,
   "metadata": {},
   "outputs": [],
   "source": []
  }
 ],
 "metadata": {
  "kernelspec": {
   "display_name": "Python 3",
   "language": "python",
   "name": "python3"
  },
  "language_info": {
   "codemirror_mode": {
    "name": "ipython",
    "version": 3
   },
   "file_extension": ".py",
   "mimetype": "text/x-python",
   "name": "python",
   "nbconvert_exporter": "python",
   "pygments_lexer": "ipython3",
   "version": "3.9.5"
  }
 },
 "nbformat": 4,
 "nbformat_minor": 4
}
