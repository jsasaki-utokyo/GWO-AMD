{
 "cells": [
  {
   "cell_type": "markdown",
   "metadata": {},
   "source": [
    "# 気象データべース地上観測の一つの観測点における日別または時別の複数年連続ファイルを年別のファイルに分割\n",
    "**Author: Jun Sasaki, Coded on December 14, 2017, Revised on December 17, 2023**<br>\n",
    "GWOのDVDでは1測点について，連続した年号を一括で出力可能．このように1ファイルとして出力したものを年毎のファイルに分割するのが目的\n",
    "\n",
    "- 気象データベース地上観測（GWO）DVD時別値は，1961年から1990年までは3時間間隔データとなっている．GWOのDVDから1地点1ファイルとして複数年一括出力したものを年毎に分ける．1991年以降は1時間間隔となっている．本コードはどちらにも，あるいは混在していても適用可能である．\n",
    "- このほかに日別値にも同様に対応した．\n",
    "- 入力CSVファイルのエンコードはSHIFT-JIS，CRLF，分割後の年別ファイルのエンコードはUTF-8，LFである．\n",
    "- nkfを用い，linefeedをLinux形式としている.\n",
    "- データベースはSQLViewer7.exeを立ち上げ，「有効データ」および「閾値ソート」のチェックを外し，「全データベース項目」にチェックを入れ，観測所を一つ選び，全期間を指定して実行する．\n",
    "- CSVファイルに保存する際は，抽出DB画面の「編集」の「列ラベル出力」にチェックを入れてから，保存する．\n",
    "- Windows版では出力が自動的にShift-JISになったため，pandas.to_csvでエンコードをUTF-8に指定する必要がある．\n",
    "- 時別値は1日の最後のデータ時刻が24時のため，年末24時のデータは翌年年初0時のデータを意味する．\n",
    "\n",
    "# Splitting a GWO Houly or Daily data file containing multiple-year data at a station into a set of each-year files\n",
    "The GWO DVD can output a batch of consecutive years for one measurement point. The purpose of this is to split the output as one file into yearly files.\n",
    "\n",
    "- The GWO DVD hourly data from 1961 to 1990 are 3-hourly data, and the data are divided into yearly data from GWO DVD files. This code can be applied to both of them or both of them.\n",
    "- This code can be applied to both, or to a mixture of both. Daily values are also supported.\n",
    "- The encoding of the input csv file is SHIFT-JIS and CRLF, and the encoding of the split year file is UTF-8 and LF.\n",
    "- The encoding of the input csv file is SHIFTJIS and CRLF, and the encoding of the split yearly file is UTF-8 and LF. nkf is used and linefeed is in Linux format.\n",
    "- For the database, start SQLViewer7.exe, uncheck \"Valid Data\" and \"Threshold Sort\", check \"All Database Items\", select one observatory, and specify all periods.\n",
    "- To save the data in a csv file, check the \"Output Column Labels\" checkbox in the \"Edit\" section of the Extraction DB screen, and then save the file.\n",
    "- In the Windows version, the output is automatically set to Shift-JIS, so it is necessary to specify UTF-8 encoding in pandas.to_csv.\n",
    "- The last data time of the day is 24:00, so the data at 24:00 at the end of the year means the data at 0:00 at the beginning of the next year."
   ]
  },
  {
   "cell_type": "code",
   "execution_count": null,
   "metadata": {},
   "outputs": [],
   "source": [
    "import pandas as pd\n",
    "import subprocess\n",
    "import os\n",
    "import sys\n",
    "import glob"
   ]
  },
  {
   "cell_type": "code",
   "execution_count": null,
   "metadata": {},
   "outputs": [],
   "source": [
    "stn_dict={\"稚内\":\"Wakkanai\", \"北見枝幸\":\"Kitamiesashi\", \"羽幌\":\"Haboro\", \"雄武\":\"Oumu\", \"留萌\":\"Rumoi\", \"旭川\":\"Asahikawa\", \\\n",
    "          \"網走\":\"Abashiri\", \"小樽\":\"Otaru\", \"札幌\":\"Sapporo\", \"岩見沢\":\"Iwamizawa\", \"帯広\":\"Obihiro\", \"釧路\":\"Kushiro\", \\\n",
    "          \"根室\":\"Nemuro\", \"寿都\":\"Suttu\", \"室蘭\":\"Muroran\", \"苫小牧\":\"Tomakomai\", \\\n",
    "          \"浦河\":\"Urakawa\", \"江差\":\"Esashi\", \"函館\":\"Hakodate\", \"倶知安\":\"Kutchan\", \"紋別\":\"Monbetsu\", \"広尾\":\"Hiroo\", \\\n",
    "          \"大船渡\":\"Ofunato\", \"新庄\":\"Shinjo\", \"若松\":\"Wakamatsu\", \"深浦\":\"Fukaura\", \\\n",
    "          \"青森\":\"Aomori\", \"むつ\":\"Mutsu\", \"八戸\":\"Hachinohe\", \"秋田\":\"Akita\", \"盛岡\":\"Morioka\", \"宮古\":\"Miyako\", \\\n",
    "          \"酒田\":\"Sakata\", \"山形\":\"Yamagata\", \"仙台\":\"Sendai\", \"石巻\":\"Ishinomaki\", \\\n",
    "          \"福島\":\"Fukushima\", \"白河\":\"Shirakawa\", \"小名浜\":\"Onahama\", \"輪島\":\"Wajima\", \"相川\":\"Aikawa\", \"新潟\":\"Niigata\", \\\n",
    "          \"金沢\":\"Kanazawa\", \"伏木\":\"Fushiki\", \"富山\":\"Toyama\", \"長野\":\"Nagano\", \\\n",
    "          \"高田\":\"Takada\", \"宇都宮\":\"Utsunomiya\", \"福井\":\"Fukui\", \"高山\":\"Takayama\", \"松本\":\"Matsumoto\", \\\n",
    "          \"諏訪\":\"Suwa\", \"軽井沢\":\"Karuizawa\", \"前橋\":\"Maebashi\", \"熊谷\":\"Kumagaya\", \"水戸\":\"Mito\", \\\n",
    "          \"敦賀\":\"Tsuruga\", \"岐阜\":\"Gifu\", \"名古屋\":\"Nagoya\", \"飯田\":\"Iida\", \"甲府\":\"Kofu\", \\\n",
    "          \"河口湖\":\"Kawaguchiko\", \"秩父\":\"Chichibu\", \"館野\":\"Tateno\", \"銚子\":\"Choshi\", \"上野\":\"Ueno\", \\\n",
    "          \"津\":\"Tsu\", \"伊良湖\":\"Irago\", \"浜松\":\"Hamamatsu\", \"御前崎\":\"Omaezaki\", \"静岡\":\"Shizuoka\", \\\n",
    "          \"三島\":\"Mishima\", \"東京\":\"Tokyo\", \"尾鷲\":\"Owase\", \"石廊崎\":\"Irozaki\", \"網代\":\"Ajiro\", \\\n",
    "          \"横浜\":\"Yokohama\", \"館山\":\"Tateyama\", \"勝浦\":\"Katsuura\", \"大島\":\"Oshima\", \"三宅島\":\"Miyakejima\", \\\n",
    "          \"八丈島\":\"Hachijojima\", \"千葉\":\"Chiba\", \"四日市\":\"Yokkaichi\", \"日光\":\"Nikko\", \"西郷\":\"Saigo\", \\\n",
    "          \"松江\":\"Matsue\", \"境\":\"Sakai\", \"米子\":\"Yonago\", \"鳥取\":\"Tottori\", \"豊岡\":\"Toyooka\", \"舞鶴\":\"Maiduru\", \\\n",
    "          \"伊吹山\":\"Ibukiyama\", \"萩\":\"Hagi\", \"浜田\":\"Hamada\", \"津山\":\"Tsuyama\", \\\n",
    "          \"京都\":\"Kyoto\", \"彦根\":\"Hikone\", \"下関\":\"Shimonoseki\", \"広島\":\"Hiroshima\", \"呉\":\"Kure\", \\\n",
    "          \"福山\":\"Fukuyama\", \"岡山\":\"Okayama\", \"姫路\":\"Himeji\", \"神戸\":\"Kobe\", \"大阪\":\"Osaka\", \\\n",
    "          \"洲本\":\"Sumoto\", \"和歌山\":\"Wakayama\", \"潮岬\":\"Shionomisaki\", \"奈良\":\"Nara\", \"山口\":\"Yamaguchi\", \\\n",
    "          \"厳原\":\"Izuhara\", \"平戸\":\"Hirado\", \"福岡\":\"Fukuoka\", \"飯塚\":\"Iiduka\", \"佐世保\":\"Sasebo\", \\\n",
    "          \"佐賀\":\"Saga\", \"日田\":\"Hita\", \"大分\":\"Oita\", \"長崎\":\"Nagasaki\", \"熊本\":\"Kumamoto\", \\\n",
    "          \"阿蘇山\":\"Asosan\", \"延岡\":\"Nobeoka\", \"阿久根\":\"Akune\", \"人吉\":\"Hitoyoshi\", \"鹿児島\":\"Kagoshima\", \\\n",
    "          \"都城\":\"Miyakonojo\", \"宮崎\":\"Miyazaki\", \"枕崎\":\"Makurazaki\", \"油津\":\"Aburatsu\", \"屋久島\":\"Yakushima\", \\\n",
    "          \"種子島\":\"Tanegashima\", \"牛深\":\"Ushibuka\", \"福江\":\"Fukue\", \"松山\":\"Matsuyama\", \"多度津\":\"Tadotsu\", \\\n",
    "          \"高松\":\"Takamatsu\", \"宇和島\":\"Uwajima\", \"高知\":\"Kochi\", \"剣山\":\"Tsurugisan\", \"徳島\":\"Tokushima\", \\\n",
    "          \"宿毛\":\"Sukumo\", \"清水\":\"Shimizu\", \"室戸岬\":\"Murotomisaki\", \"名瀬\":\"Nase\", \"与那国島\":\"Yonakunijima\", \\\n",
    "          \"石垣島\":\"Ishigakijima\", \"宮古島\":\"Miyakojima\", \"久米島\":\"Kumejima\", \"那覇\":\"Naha\", \"名護\":\"Nago\", \\\n",
    "          \"沖永良部\":\"Okinoerabu\", \"南大東島\":\"Minamidaitojima\", \"父島\":\"Chichijima\", \"南鳥島\":\"Minamitorishima\"}"
   ]
  },
  {
   "cell_type": "code",
   "execution_count": null,
   "metadata": {},
   "outputs": [],
   "source": [
    "def GWO_div_year(stn=\"Tokyo\", year_ini=None, year_end=None, db_path=\"/mnt/d/dat/met/JMA_DataBase/GWO/Hourly/\"):\n",
    "    '''Divide a file containing continuous years data into each year file'''\n",
    "    ### File path for reading file, e.g., Tokyo1961-1990.csv (UTF-8)\n",
    "    dirpath=db_path + stn + \"/\"\n",
    "    if not os.path.isdir(dirpath):\n",
    "        print('Error: No such a directory')\n",
    "        sys.exit()\n",
    "    fpath = glob.glob(dirpath + '*-*.csv')\n",
    "    if not year_ini == None and not year_end == None:  ### year_iniとyear_endが与えられている場合\n",
    "        fpath=db_path + stn +\"/\" + stn + str(year_ini) + \"-\" + str(year_end) + \".csv\"\n",
    "        print(fpath)\n",
    "    else: ### year_iniとyear_endの少なくとも一方がNoneの場合\n",
    "        ### 時別値は2つのファイルが存在\n",
    "        if len(fpath) == 1: ### 日別値の場合\n",
    "            fpath=fpath[0]\n",
    "        elif len(fpath) > 1:\n",
    "            if year_end == 1990:\n",
    "                fpath = glob.glob(dirpath + '*-1990*.csv')[0]\n",
    "            elif year_ini == 1991:\n",
    "                fpath = glob.glob(dirpath + '*1991-*.csv')[0]\n",
    "            else:\n",
    "                print(\"Error: Number of all-year csv files cannot be selected.\")\n",
    "                print(fpath)\n",
    "                sys.exit()\n",
    "        else:\n",
    "            print(\"Error: Number of all-year csv files cannot be selected.\")\n",
    "            print(fpath)\n",
    "            sys.exit()\n",
    "    print(\"Reading \", fpath)\n",
    "    df=pd.read_csv(fpath, header=None, dtype=\"str\", encoding=\"SHIFT-JIS\")\n",
    "    if year_ini == None:\n",
    "        year_ini = int(df.iloc[0,3])\n",
    "    if year_end == None:\n",
    "        year_end = int(df.iloc[-1,3])\n",
    "    for year in range(year_ini, year_end + 1):\n",
    "        df_year = df[df.iloc[:,3] == str(year)]  ### Column 3 of df is year.\n",
    "        fpath_year = db_path + stn + \"/\" + stn + str(year) + \".csv\"  ### output CSV file path for each year\n",
    "        print(\"Creating\", fpath_year)\n",
    "        df_year.to_csv(fpath_year, header=None, index=False, encoding=\"utf-8\")  ### エンコードをutf-8とする\n",
    "        ### Converting to linefeed of LF  ### Linux互換とするため，改行コードをLFにする\n",
    "        cmd = ['nkf', '-w', '-Lu', '--overwrite', fpath_year]\n",
    "        print(\"Converting to LF\", cmd)\n",
    "        print(f\"Converting to LF: {' '.join(cmd)}\")\n",
    "        subprocess.call(cmd)"
   ]
  },
  {
   "cell_type": "markdown",
   "metadata": {},
   "source": [
    "## 時別値ファイルを分割する\n",
    "**db_path**で指定したディレクトリ，例えば，`/mnt/d/dat/met/GWO/Hourly/` の地点名のディレクトリに，**Tokyo1961-1990.csv** といったCSVファイルが要存在\n",
    "\n",
    "## Split an hourly multi-year data file into each year data files\n",
    "Under the directory of **db_path**, such as `/mnt/d/dat/met/GWO/Hourly/`, each station directly should be exist. The corresponding multi-year data CSV file should exist in each station directory.\n",
    "\n",
    "### Simple test case at one station"
   ]
  },
  {
   "cell_type": "code",
   "execution_count": null,
   "metadata": {},
   "outputs": [],
   "source": [
    "'''\n",
    "stn=\"Tokyo\"  ### \"Tokyo\" or \"Yokohama\" or \"Chiba\" or \"Tateyama\"\n",
    "year_ini=1961  ### データの存在する最初の年は地点により異なるので，要設定\n",
    "GWO_div_year(stn=stn, year_ini=None, year_end=1990)\n",
    "GWO_div_year(stn=stn, year_ini=1991, year_end=2021)\n",
    "'''"
   ]
  },
  {
   "cell_type": "markdown",
   "metadata": {},
   "source": [
    "### すべての観測点におけるすべての観測年の時別値ファイルに一気に分割する\n",
    "- 1990年以前と1991年以降ではデータの時間間隔が異なるため，それぞれのファイルを処理する必要がある．\n",
    "- 1990年以前のファイルの処理においては，`year_ini=None` とする．これは観測所によってデータ取得開始年が異なるためである．\n",
    "- 1991年以降のファイルの処理においては，`year_ini=1991`，`year_end=2021`とする．`year_end`は気象データベースで用意した最後の年を与える（現在のところ2021）．\n",
    "\n",
    "### Split the hourly multi-year file into each year files at every station and year.\n",
    "- Since the time interval of the data is different between before 1990 and after 1991, it is necessary to process each file.\n",
    "- In the processing of the files before 1990, `year_ini=None` should be applied. This is because the start year of data acquisition differs from station to station.\n",
    "- When processing files after 1991, `year_ini=1991` and `year_end=2021` should be used. The `year_end` should be given as the last year prepared in the meteorological database (currently 2021)."
   ]
  },
  {
   "cell_type": "code",
   "execution_count": null,
   "metadata": {},
   "outputs": [],
   "source": [
    "## Specify the directory db_path containing station directories with a multiple-year CSV file.\n",
    "db_path = \"/mnt/d/dat/met/JMA_DataBase/GWO/Hourly2/\"\n",
    "stns = list(stn_dict.values())\n",
    "\n",
    "for stn in stns:\n",
    "    ## None-1990\n",
    "    # GWO_div_year(stn=stn, year_ini=None, year_end=1990, db_path=db_path)\n",
    "    ## 1991-2021\n",
    "    ## The years must be consistent with the years in the CSV file name.\n",
    "    GWO_div_year(stn=stn, year_ini=1991, year_end=2021, db_path=db_path)"
   ]
  },
  {
   "cell_type": "code",
   "execution_count": null,
   "metadata": {},
   "outputs": [],
   "source": [
    "%tb"
   ]
  },
  {
   "cell_type": "markdown",
   "metadata": {},
   "source": [
    "# 以降は要検証（Not tested yet）\n",
    "## 日別値ファイルを分割する\n",
    "時別値と同様に複数年のcsvファイルをデフォルトのSHIFT-JIS，CRLFで準備する．例：Tokyo1961-2017.csv"
   ]
  },
  {
   "cell_type": "code",
   "execution_count": null,
   "metadata": {},
   "outputs": [],
   "source": [
    "'''\n",
    "stn=\"Matsue\"\n",
    "year_ini=None\n",
    "year_end=None\n",
    "db_path = \"/mnt/d/dat/met/GWO/Daily/\"\n",
    "GWO_div_year(stn=stn, year_ini=year_ini, year_end=year_end, db_path=db_path)\n",
    "'''"
   ]
  },
  {
   "cell_type": "markdown",
   "metadata": {},
   "source": [
    "### すべての観測点におけるすべての観測年の日別値ファイルに一気に分割する"
   ]
  },
  {
   "cell_type": "code",
   "execution_count": null,
   "metadata": {},
   "outputs": [],
   "source": [
    "'''\n",
    "stns = list(stn_dict.values())\n",
    "db_path = \"/mnt/d/dat/met/GWO/Daily/\"\n",
    "for stn in stns:\n",
    "    GWO_div_year(stn=stn, year_ini=None, year_end=None, db_path=db_path)\n",
    "'''"
   ]
  },
  {
   "cell_type": "code",
   "execution_count": null,
   "metadata": {},
   "outputs": [],
   "source": []
  }
 ],
 "metadata": {
  "kernelspec": {
   "display_name": "Python 3 (ipykernel)",
   "language": "python",
   "name": "python3"
  },
  "language_info": {
   "codemirror_mode": {
    "name": "ipython",
    "version": 3
   },
   "file_extension": ".py",
   "mimetype": "text/x-python",
   "name": "python",
   "nbconvert_exporter": "python",
   "pygments_lexer": "ipython3",
   "version": "3.11.4"
  }
 },
 "nbformat": 4,
 "nbformat_minor": 4
}
